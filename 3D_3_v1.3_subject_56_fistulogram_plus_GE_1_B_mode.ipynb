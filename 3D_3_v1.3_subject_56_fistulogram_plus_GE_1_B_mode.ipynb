{
 "cells": [
  {
   "cell_type": "markdown",
   "metadata": {},
   "source": [
    "## subject 56, GE 1, fistulogram + B_mode trimmed data\n",
    "## fistulogram not included, but code for fistulogram review included\n",
    "## added some commented code for morphologic filtering\n",
    "\n",
    "morphologic filtering and median filtering variably used <br>\n",
    "\n",
    "Revised January 2023\n",
    "Revised February through May 2021\n",
    "William (Rick) Weitzel, August 20, 2020 - Sept 15, 2020 <br>"
   ]
  },
  {
   "cell_type": "markdown",
   "metadata": {},
   "source": [
    "For investigational use only and prepared for release under open source 3-clause BSD license <br>"
   ]
  },
  {
   "cell_type": "code",
   "execution_count": 1,
   "metadata": {},
   "outputs": [
    {
     "ename": "ModuleNotFoundError",
     "evalue": "No module named 'pydicom'",
     "output_type": "error",
     "traceback": [
      "\u001b[0;31m---------------------------------------------------------------------------\u001b[0m",
      "\u001b[0;31mModuleNotFoundError\u001b[0m                       Traceback (most recent call last)",
      "Cell \u001b[0;32mIn[1], line 3\u001b[0m\n\u001b[1;32m      1\u001b[0m \u001b[38;5;66;03m# libraries for data analysis, plotting, and interaction\u001b[39;00m\n\u001b[1;32m      2\u001b[0m \u001b[38;5;28;01mimport\u001b[39;00m \u001b[38;5;21;01mos\u001b[39;00m\n\u001b[0;32m----> 3\u001b[0m \u001b[38;5;28;01mimport\u001b[39;00m \u001b[38;5;21;01mpydicom\u001b[39;00m\n\u001b[1;32m      4\u001b[0m \u001b[38;5;28;01mimport\u001b[39;00m \u001b[38;5;21;01mmatplotlib\u001b[39;00m\u001b[38;5;21;01m.\u001b[39;00m\u001b[38;5;21;01mpyplot\u001b[39;00m \u001b[38;5;28;01mas\u001b[39;00m \u001b[38;5;21;01mplt\u001b[39;00m\n\u001b[1;32m      5\u001b[0m \u001b[38;5;28;01mimport\u001b[39;00m \u001b[38;5;21;01mnumpy\u001b[39;00m \u001b[38;5;28;01mas\u001b[39;00m \u001b[38;5;21;01mnp\u001b[39;00m\n",
      "\u001b[0;31mModuleNotFoundError\u001b[0m: No module named 'pydicom'"
     ]
    }
   ],
   "source": [
    "# libraries for data analysis, plotting, and interaction\n",
    "import os\n",
    "import pydicom\n",
    "import matplotlib.pyplot as plt\n",
    "import numpy as np\n",
    "import scipy.ndimage as ndi\n",
    "import ipyvolume as ipv\n",
    "import ipywidgets as widgets\n",
    "from ipywidgets import interact, VBox, HBox\n",
    "\n",
    "# speckle tracking libraries\n",
    "# from tim_library import pointsDelta, peaks, waveUtilsb\n",
    "# from tim_rick_library import speckleTrack, fileIO\n",
    "# from rick_lib import gui_tools as gt\n",
    "# from scipy import signal\n"
   ]
  },
  {
   "cell_type": "code",
   "execution_count": null,
   "metadata": {},
   "outputs": [],
   "source": [
    "# import sys "
   ]
  },
  {
   "cell_type": "code",
   "execution_count": null,
   "metadata": {},
   "outputs": [],
   "source": [
    "# sys.path"
   ]
  },
  {
   "cell_type": "markdown",
   "metadata": {},
   "source": [
    "# skip steps down to loading the cropped data"
   ]
  },
  {
   "cell_type": "code",
   "execution_count": null,
   "metadata": {},
   "outputs": [],
   "source": [
    "# skip this step - already converted to pixel data (.npy file)\n",
    "file_directory = './061722_TEST_dcm_3D/'\n",
    "# substring = '.npy'\n",
    "substring = '.dcm'\n",
    "file_list = []\n",
    "all_files = os.listdir(file_directory)\n",
    "for i in range(0,len(all_files)):\n",
    "    if substring in all_files[i]:\n",
    "        file_list.append(all_files[i])\n",
    "file_list.sort() # needed to correct os.listdir() order"
   ]
  },
  {
   "cell_type": "code",
   "execution_count": null,
   "metadata": {
    "scrolled": false
   },
   "outputs": [],
   "source": [
    "# skip this step - already converted to pixel data (.npy file)\n",
    "file_select = widgets.Dropdown(\n",
    "    options = file_list,\n",
    "    value = file_list[0],\n",
    "    description = 'Select File:',\n",
    "    disabled = False,\n",
    "    )\n",
    "\n",
    "f_selected = widgets.Text(\n",
    "    value=file_select.value,\n",
    "    placeholder='select file',\n",
    "    description='File selected:',\n",
    "    disabled=False\n",
    "    )\n",
    "\n",
    "confirm_info = widgets.Text(\n",
    "    value = f_selected.value,\n",
    "    placeholder='file info',\n",
    "    description='Confirm File:',\n",
    "    disabled=False\n",
    ")\n",
    "\n",
    "def on_button1_click(_):\n",
    "    confirm_info.value = f_selected.value\n",
    "    return\n",
    "\n",
    "button1 = widgets.Button(\n",
    "    description=\"Press to confirm correct file data file seleted\",\n",
    "    layout={'width': 'max-content'},\n",
    "    disabled=False,\n",
    "    button_style='', # 'success', 'info', 'warning', 'danger' or ''\n",
    "    tooltip='click to confirm',\n",
    "    icon='check'\n",
    ")\n",
    "\n",
    "def func(change, print_flag=1):\n",
    "    global pixel_data, shape\n",
    "#     global ds # for dicom loading\n",
    "    ds = pydicom.dcmread(file_directory + change['new']) # for dicom\n",
    "    pixel_data = ds.pixel_array\n",
    "#     pixel_data = np.load(file_directory + change['new']) # for .npy\n",
    "    shape = np.shape(pixel_data)\n",
    "    if print_flag == 1:\n",
    "            print(shape)\n",
    "            print('prior file: ',change['old'])\n",
    "            print('new file: ',change['new'])\n",
    "    return pixel_data, shape\n",
    "    \n",
    "confirm_info.observe(func, names=['value'])\n",
    "confirm_info.observe(on_button1_click, names=\"value\")\n",
    "button1.on_click(on_button1_click)\n",
    "\n",
    "a_link = widgets.link((file_select, 'value'), (f_selected, 'value'))\n",
    "\n",
    "left_box = VBox([file_select, f_selected])\n",
    "right_box = VBox([button1, confirm_info])\n",
    "whole_box = widgets.widgets.widget_box.HBox([left_box, right_box]) #notice workaround\n",
    "\n",
    "display(whole_box)\n"
   ]
  },
  {
   "cell_type": "code",
   "execution_count": null,
   "metadata": {},
   "outputs": [],
   "source": [
    "# note image01 is Doppler for TEST on 06 17 2022\n",
    "# note image02 is Doppler grayscale for TEST on 06 17 2022\n",
    "# note image03 is grayscale for TEST on 06 17 2022"
   ]
  },
  {
   "cell_type": "code",
   "execution_count": null,
   "metadata": {},
   "outputs": [],
   "source": [
    "# examine a \"red\" and \"gray\" pixel\n",
    "pixel_data[0,300,125], pixel_data[1,100,125]"
   ]
  },
  {
   "cell_type": "code",
   "execution_count": 17,
   "metadata": {},
   "outputs": [
    {
     "ename": "NameError",
     "evalue": "name 'confirm_info' is not defined",
     "output_type": "error",
     "traceback": [
      "\u001b[0;31m---------------------------------------------------------------------------\u001b[0m",
      "\u001b[0;31mNameError\u001b[0m                                 Traceback (most recent call last)",
      "\u001b[0;32m<ipython-input-17-de2eb22aff7f>\u001b[0m in \u001b[0;36m<module>\u001b[0;34m\u001b[0m\n\u001b[1;32m     11\u001b[0m \u001b[0;31m#     plt.imshow(pixel_data[frame_number[0],y_window[0]:y_window[1],x_window[0]:x_window[1],0],)\u001b[0m\u001b[0;34m\u001b[0m\u001b[0;34m\u001b[0m\u001b[0;34m\u001b[0m\u001b[0m\n\u001b[1;32m     12\u001b[0m     \u001b[0;32mreturn\u001b[0m\u001b[0;34m\u001b[0m\u001b[0;34m\u001b[0m\u001b[0m\n\u001b[0;32m---> 13\u001b[0;31m \u001b[0mwidgets\u001b[0m\u001b[0;34m.\u001b[0m\u001b[0mLabel\u001b[0m\u001b[0;34m(\u001b[0m\u001b[0mvalue\u001b[0m\u001b[0;34m=\u001b[0m\u001b[0;34m'file: '\u001b[0m \u001b[0;34m+\u001b[0m \u001b[0mconfirm_info\u001b[0m\u001b[0;34m.\u001b[0m\u001b[0mvalue\u001b[0m\u001b[0;34m)\u001b[0m\u001b[0;34m\u001b[0m\u001b[0;34m\u001b[0m\u001b[0m\n\u001b[0m\u001b[1;32m     14\u001b[0m \u001b[0mdescription_wider\u001b[0m \u001b[0;34m=\u001b[0m \u001b[0;34m{\u001b[0m\u001b[0;34m'description_width'\u001b[0m\u001b[0;34m:\u001b[0m \u001b[0;34m'initial'\u001b[0m\u001b[0;34m}\u001b[0m\u001b[0;34m\u001b[0m\u001b[0;34m\u001b[0m\u001b[0m\n\u001b[1;32m     15\u001b[0m interact(m_plot_frame,\n",
      "\u001b[0;31mNameError\u001b[0m: name 'confirm_info' is not defined"
     ]
    }
   ],
   "source": [
    "# master plot frame widget m_plot_frame\n",
    "def m_plot_frame(frame_number, y_window, x_window):\n",
    "#     plt.imshow(pixel_data[frame_number[0],y_window[0]:y_window[1],x_window[0]:x_window[1],:],\\\n",
    "#               cmap=\"gray\") # all channels\n",
    "#     plt.imshow(pixel_data[frame_number[0],y_window[0]:y_window[1],x_window[0]:x_window[1],0],\\\n",
    "#               cmap=\"gray\") # 1st channel\n",
    "    plt.imshow(pixel_data[frame_number[0],y_window[0]:y_window[1],x_window[0]:x_window[1],2],\\\n",
    "              cmap=\"gray\") # 3rd channel\n",
    "#     plt.imshow(pixel_data[frame_number[0],y_window[0]:y_window[1],x_window[0]:x_window[1],0],\\\n",
    "#               cmap=\"gray\")\n",
    "#     plt.imshow(pixel_data[frame_number[0],y_window[0]:y_window[1],x_window[0]:x_window[1],0],)\n",
    "    return \n",
    "widgets.Label(value='file: ' + confirm_info.value)\n",
    "description_wider = {'description_width': 'initial'}\n",
    "interact(m_plot_frame,\n",
    "         frame_number=widgets.IntRangeSlider(value=[0, shape[0]-1],\\\n",
    "    min=0, max=shape[0]-1, step=1,description='frame range',\\\n",
    "    continuous_update=False, style=description_wider),\n",
    "         x_window = widgets.IntRangeSlider(value=[0,shape[2]-1],\\\n",
    "    min=0, max=shape[2]-1, step=1, description='X range', disabled=False,\n",
    "    continuous_update=False, orientation='horizontal', readout=True,\n",
    "    readout_format='d'),\n",
    "         y_window = widgets.IntRangeSlider(value=[0,shape[1]-1],\\\n",
    "    min=0, max=shape[1]-1, step=1, description='Y range', disabled=False,\n",
    "    continuous_update=False, orientation='horizontal', readout=True,\n",
    "    readout_format='d'),\n",
    "        );\n",
    "\n",
    "# for file_directory:  ./2_017_PRE_031121/ \n",
    "#  and file_name: 2_017_pre_Image08.dcm USE frames=125,350, y=130,330, x=200,500\n",
    "# notes to self for 2_017_pre_Image10.dcm, parameters are frames 150-475, y_range = 140-300, x_range=167-530, threshold=41-49\n",
    "\n",
    "# for file_directory:  ./2_016_PRE_030321/ \n",
    "#  and file_name: 2_016_pre_Image08.dcm USE frames=90,220, y=100,300, x=200,700\n",
    "\n",
    "#  and file_name: 2_007_pre_Image.dcm USE frames=0,650, y=170,275, x=320,900\n",
    "\n",
    "#  and file_name: 2_018_pre_Image12.dcm USE frames=90,320, y=135,315, x=260,645\n",
    "\n",
    "#  and file_name: 2_019_pre_Image1.dcm USE frames=60,460, y=70,300, x=100,425\n",
    "\n",
    "\n",
    "#  and file_name: 2_020_pre_Image25.dcm USE frames=10,648, y=75,400, x=110,470 GRAYSCALE\n",
    "#  and file_name: 2_020_pre_Image26.dcm USE frames=10,460, y=100,500, x=120,620 DOPPLER\n",
    "#  and file_name: 2_020_pre_Image30.dcm USE frames=10,436, y=100,450, x=100,699\n",
    "\n",
    "#  and file_name: 2_017_d55_pre_Image02.dcm USE frames=10,677, y=100,450, x=100,700\n",
    "#  and file_name: 2_017_d55_pre_Image03.dcm USE frames=20,790, y=100,320, x=60,700 GRAYSCALE\n",
    "#  and file_name: 2_017_d55_pre_Image04.dcm USE frames=20,700, y=100,350, x=100,700 DOPPLER\n",
    "\n",
    "# for TEST 20220617 image03 Grayscale, use all frames, y = 150, 300, x = 300, 550\n",
    "\n",
    "# NOTE: cut y top doen to 58 to preserve scale on image\n",
    "# for image 02 Doppler, all frames, y range 50 - 308, x range 200- 799\n",
    "# for image 02 Grayscale, all frames, y range 50 - 308, x range 200- 799\n",
    "# note: if Doppler is saturated, then the 3rd channel is turned black, but otherwise it is grayscale\n"
   ]
  },
  {
   "cell_type": "code",
   "execution_count": null,
   "metadata": {},
   "outputs": [],
   "source": [
    "crop_values = [m_plot_frame.widget.children[i].value for i in range(0,3)]\n",
    "cv = crop_values\n",
    "cv"
   ]
  },
  {
   "cell_type": "code",
   "execution_count": null,
   "metadata": {},
   "outputs": [],
   "source": [
    "# define values for future use: first in orginal coordinates\n",
    "crop_values = [m_plot_frame.widget.children[i].value for i in range(0,3)]\n",
    "cv = crop_values\n",
    "grid_x = int(crop_values[2][0] + (crop_values[2][1]-crop_values[2][0])/2)\n",
    "grid_y_top = int(crop_values[1][0] + (crop_values[1][1]-crop_values[1][0])/4)\n",
    "grid_y_bottom = int(crop_values[1][0] + 3*(crop_values[1][1]-crop_values[1][0])/4)\n",
    "points_list = [(grid_x, grid_y_top), (grid_x,grid_y_bottom)]\n",
    "# define values for future use: next in cropped value coordinates\n",
    "c_grid_x = grid_x - cv[2][0]\n",
    "c_grid_y_top = grid_y_top - cv[1][0]\n",
    "c_grid_y_bottom = grid_y_bottom - cv[1][0]\n",
    "c_y_mid = int((c_grid_y_top + c_grid_y_bottom)/2)\n",
    "c_midpoint = c_grid_x, c_y_mid\n",
    "c_data = pixel_data[cv[0][0]:cv[0][1], cv[1][0]:cv[1][1], \n",
    "                          cv[2][0]:cv[2][1], :]\n",
    "# get dimensions / ranges for cropped_image_data (c_data)\n",
    "c_frames, c_y_dim, c_x_dim, c_rgb = c_data.shape\n",
    "print(cv)\n",
    "print(c_frames, c_y_dim, c_x_dim, c_rgb)"
   ]
  },
  {
   "cell_type": "code",
   "execution_count": null,
   "metadata": {},
   "outputs": [],
   "source": [
    "# format to save pixel data\n",
    "# np.save('2_016_pixel_data_img08', c_data)\n",
    "# np.save('2_020_pixel_data_img30', c_data)\n",
    "# np.save('2_020_pixel_data_img25_GRAYSCALE', c_data)\n",
    "# np.save('2_020_pixel_data_img26_DOPPLER', c_data)\n",
    "# np.save('2_017_d55_img03_GRAYSCALE', c_data)\n",
    "# np.save('sono_data_2_017_d55_img04_DOPPLER', c_data)\n",
    "np.save('image02_artery_Grayscale', c_data)"
   ]
  },
  {
   "cell_type": "markdown",
   "metadata": {},
   "source": [
    "# resume here - load the cropped data as c_data and begin processing"
   ]
  },
  {
   "cell_type": "code",
   "execution_count": 18,
   "metadata": {},
   "outputs": [
    {
     "data": {
      "text/plain": [
       "['1_B_Mode.npy', '1_B_Mode_trimmed.npy', '2_Power_Doppler.npy', '3_B_Flow.npy']"
      ]
     },
     "execution_count": 18,
     "metadata": {},
     "output_type": "execute_result"
    }
   ],
   "source": [
    "# get list of .npy files to choose from\n",
    "# file_directory = './3D_54_GE_021623/'\n",
    "# file_directory = './3D_55_GE_07182023/'\n",
    "file_directory = './3D_56_GE_20230928/'\n",
    "substring = '.npy'\n",
    "# substring = '.dcm'\n",
    "file_list = []\n",
    "all_files = os.listdir(file_directory)\n",
    "for i in range(0,len(all_files)):\n",
    "    if substring in all_files[i]:\n",
    "        file_list.append(all_files[i])\n",
    "file_list.sort() # needed to correct os.listdir() order\n",
    "file_list"
   ]
  },
  {
   "cell_type": "code",
   "execution_count": 19,
   "metadata": {},
   "outputs": [],
   "source": [
    "data_directory = './3D_56_GE_20230928/'\n",
    "file = '1_B_Mode_trimmed.npy'\n",
    "c_data = np.load(data_directory + file)"
   ]
  },
  {
   "cell_type": "code",
   "execution_count": 20,
   "metadata": {},
   "outputs": [],
   "source": [
    "c_frames, c_y_dim, c_x_dim, c_rgb = c_data.shape"
   ]
  },
  {
   "cell_type": "code",
   "execution_count": 21,
   "metadata": {},
   "outputs": [
    {
     "data": {
      "text/plain": [
       "(902, 150, 425, 3)"
      ]
     },
     "execution_count": 21,
     "metadata": {},
     "output_type": "execute_result"
    }
   ],
   "source": [
    "c_frames, c_y_dim, c_x_dim, c_rgb"
   ]
  },
  {
   "cell_type": "markdown",
   "metadata": {},
   "source": [
    "manually trim the data more"
   ]
  },
  {
   "cell_type": "code",
   "execution_count": null,
   "metadata": {},
   "outputs": [],
   "source": [
    "# c_data = c_data[:,25:,:,:]"
   ]
  },
  {
   "cell_type": "code",
   "execution_count": null,
   "metadata": {},
   "outputs": [],
   "source": [
    "# c_data.shape"
   ]
  },
  {
   "cell_type": "code",
   "execution_count": null,
   "metadata": {},
   "outputs": [],
   "source": [
    "# c_frames, c_y_dim, c_x_dim, c_rgb = c_data.shape"
   ]
  },
  {
   "cell_type": "code",
   "execution_count": null,
   "metadata": {},
   "outputs": [],
   "source": [
    "# c_frames, c_y_dim, c_x_dim, c_rgb"
   ]
  },
  {
   "cell_type": "markdown",
   "metadata": {},
   "source": [
    "# thresholding"
   ]
  },
  {
   "cell_type": "code",
   "execution_count": 22,
   "metadata": {},
   "outputs": [
    {
     "data": {
      "application/vnd.jupyter.widget-view+json": {
       "model_id": "c82fc01766044bfab6331b341d1fa64e",
       "version_major": 2,
       "version_minor": 0
      },
      "text/plain": [
       "interactive(children=(IntSlider(value=0, description='frame_number', max=901, style=SliderStyle(description_wi…"
      ]
     },
     "metadata": {},
     "output_type": "display_data"
    }
   ],
   "source": [
    "# thresholding\n",
    "# note: default threshold values set to 20,50 in prep for voila version\n",
    "# and file_name:  2_017_pre_Image08.dcm USE threshold = 0,30\n",
    "# and file_name:  2_016_pre_Image08.dcm USE threshold = 0,20\n",
    "# and file_name:  2_007_pre_Image.dcm USE threshold = 0,1\n",
    "# and file_name:  2_018_pre_Image12.dcm USE threshold = 0,20\n",
    "# and file_name:  2_019_pre_Image1.dcm USE threshold = 0,4\n",
    "# FOR Power Doppler: 2_020, above 170 works well, t_lower >170  \n",
    "# FOR Power Doppler: 2_017_d55 img01, above 140 works, t_lower >140, and need two lumens selected  \n",
    "# FOR GRAYSCALE: 2_017_d55 img03, below 30 works, t_upper < 30, \n",
    "# FOR Power Doppler: image01_artery_Doppler, above 140 works, t_lower >140, and need two lumens selected  \n",
    "# FOR GRAYSCALE: image03_artery, below 40, t_uppoer < 40, acheck how many lumens needed\n",
    "\n",
    "def threshold_frame(frame_number, threshold):\n",
    "#     plt.imshow(c_data[frame_number,:,:,0], \\\n",
    "    plt.imshow(c_data[frame_number,:,:,2], \\\n",
    "        vmin = threshold_frame.widget.children[1].value[0],\n",
    "        vmax = threshold_frame.widget.children[1].value[1],\n",
    "               cmap='gray')\n",
    "    return threshold_frame.widget.children[1].value\n",
    "\n",
    "description_wider = {'description_width': 'initial'}\n",
    "interact(threshold_frame,\n",
    "        frame_number=widgets.IntSlider(min=0, \n",
    "    max=c_frames-1, step=1,value=0, style=description_wider),\n",
    "#         threshold = widgets.IntRangeSlider(value=[20,50],\\ #starter for grayscale\n",
    "        threshold = widgets.IntRangeSlider(value=[0,40], \\\n",
    "    min=0, max=255, step=1, description='thresh_range', disabled=False,\n",
    "    continuous_update=False, orientation='horizontal', readout=True,\n",
    "    readout_format='d'),\n",
    "    );\n",
    "\n",
    "# note sometimes setting lower values (e.g. 10 instead of 40), for more selective grayscale"
   ]
  },
  {
   "cell_type": "code",
   "execution_count": 33,
   "metadata": {},
   "outputs": [
    {
     "name": "stdout",
     "output_type": "stream",
     "text": [
      "0 1\n"
     ]
    }
   ],
   "source": [
    "threshold_values = threshold_frame.widget.children[1].value\n",
    "t_lower, t_upper = threshold_values\n",
    "print(t_lower, t_upper)"
   ]
  },
  {
   "cell_type": "code",
   "execution_count": 24,
   "metadata": {},
   "outputs": [],
   "source": [
    "#  on hold to get mask from range\n",
    "# lumen_mask = np.where((c_data[:,:,:,0] > t_lower) & (c_data[:,:,:,0] < t_upper),1,0)\n",
    "# lumen_mask_1 = np.where((c_data[:,:,:,0] > t_lower),0,1)\n",
    "# lumen_mask_2 = np.where((c_data[:,:,:,0] < t_upper),1,0)\n",
    "# lumen_mask = np.bitwise_and(c_data[:,:,:,0] > t_lower) & (c_data[:,:,:,0] < t_upper)"
   ]
  },
  {
   "cell_type": "code",
   "execution_count": 34,
   "metadata": {},
   "outputs": [],
   "source": [
    "# now that we have the threshold in mind\n",
    "# we'll create the lumen mask\n",
    "# need to work on logic here\n",
    "# lumen_mask = np.where((c_data[:,:,:,0] < t_upper) & (c_data[:,:,:,0] > t_lower), 1, 0)\n",
    "# lumen_mask = np.where((c_data[:,:,:,0] < t_upper) & (c_data[:,:,:,0] < t_lower), 1, 0)\n",
    "# lumen_mask = np.where((c_data[:,:,:,0] < t_upper), 1, 0) # for grayscale \n",
    "# NOTE: uppler bound for grayscale and use lower bound for power Doppler\n",
    "# lumen_mask = np.where((c_data[:,:,:,0] > t_lower), 1, 0) # for power Doppler\n",
    "lumen_mask = np.where((c_data[:,:,:,0] < t_upper), 1, 0) # for grayscale NOTE CHANNEL SELECTION"
   ]
  },
  {
   "cell_type": "code",
   "execution_count": 35,
   "metadata": {},
   "outputs": [
    {
     "data": {
      "application/vnd.jupyter.widget-view+json": {
       "model_id": "a7a23782472044fba9de033f219e36ae",
       "version_major": 2,
       "version_minor": 0
      },
      "text/plain": [
       "interactive(children=(IntSlider(value=0, description='frame_number', max=901, style=SliderStyle(description_wi…"
      ]
     },
     "metadata": {},
     "output_type": "display_data"
    }
   ],
   "source": [
    "# and examine them interactively\n",
    "# different things tried as the data\n",
    "# examine the frames\n",
    "\n",
    "def plot_lumen(frame_number):\n",
    "    frame = lumen_mask[frame_number,:,:]\n",
    "    plt.imshow(frame, cmap='gray')\n",
    "    plt.title('ultrasound lumen mask data', loc='center')\n",
    "    plt.xlabel('pixels')\n",
    "    plt.ylabel('pixels')\n",
    "\n",
    "description_wider = {'description_width': 'initial'}\n",
    "interact(plot_lumen, frame_number=widgets.IntSlider(min=0, \n",
    "    max=len(lumen_mask)-1, step=1,value=0, style=description_wider),\n",
    "    continuous_update = False);"
   ]
  },
  {
   "cell_type": "code",
   "execution_count": 36,
   "metadata": {},
   "outputs": [
    {
     "data": {
      "text/plain": [
       "((902, 150, 425), 13753)"
      ]
     },
     "execution_count": 36,
     "metadata": {},
     "output_type": "execute_result"
    }
   ],
   "source": [
    "# examine \n",
    "# the next major step is segmentation\n",
    "labels, nlabels = ndi.label(lumen_mask)\n",
    "labels.shape, nlabels\n"
   ]
  },
  {
   "cell_type": "markdown",
   "metadata": {},
   "source": [
    "# used for multiple lumen segments - skip down for single segment"
   ]
  },
  {
   "cell_type": "code",
   "execution_count": 38,
   "metadata": {},
   "outputs": [
    {
     "data": {
      "text/plain": [
       "[971]"
      ]
     },
     "execution_count": 38,
     "metadata": {},
     "output_type": "execute_result"
    }
   ],
   "source": [
    "# below used for multiple lumens selection (skip for single)\n",
    "# lumen_labels[0] = labels[18, 45, 360]\n",
    "lumen_labels = []\n",
    "lumen_labels.append(labels[190, 139, 200])\n",
    "# lumen_labels.append(labels[26, 100, 175])\n",
    "# lumen_labels.append(labels[53, 100, 195])\n",
    "# lumen_labels.append(labels[76, 100, 200])\n",
    "# lumen_labels.append(labels[99, 100, 180])\n",
    "# lumen_labels.append(labels[120, 100, 175])\n",
    "# # lumen_labels.append(labels[143, 105, 150])\n",
    "# lumen_labels.append(labels[240, 140, 105])\n",
    "# lumen_labels.append(labels[257, 145, 100])\n",
    "# lumen_labels.append(labels[280, 150, 100])\n",
    "# lumen_labels.append(labels[303, 150, 105])\n",
    "# lumen_labels.append(labels[371, 160, 30])\n",
    "# lumen_labels.append(labels[398, 150, 20])\n",
    "# lumen_labels.append(labels[419, 150, 20])\n",
    "# lumen_labels.append(labels[442, 160, 20])\n",
    "# lumen_labels.append(labels[463, 170, 20])\n",
    "# lumen_labels.append(labels[531, 200, 15])\n",
    "# lumen_labels.append(labels[554, 200, 15])\n",
    "# lumen_labels.append(labels[575, 205, 20])\n",
    "# lumen_labels.append(labels[622, 205, 40])\n",
    "# lumen_labels.append(labels[643, 200, 75])\n",
    "# lumen_labels.append(labels[663, 205, 90])\n",
    "# lumen_labels.append(labels[683, 205, 105])\n",
    "# lumen_labels.append(labels[705, 220, 110])\n",
    "# lumen_labels.append(labels[791, 225, 15])\n",
    "lumen_labels"
   ]
  },
  {
   "cell_type": "code",
   "execution_count": 39,
   "metadata": {},
   "outputs": [
    {
     "data": {
      "text/plain": [
       "971"
      ]
     },
     "execution_count": 39,
     "metadata": {},
     "output_type": "execute_result"
    }
   ],
   "source": [
    "label_number = lumen_labels[0]\n",
    "label_number"
   ]
  },
  {
   "cell_type": "code",
   "execution_count": 40,
   "metadata": {},
   "outputs": [],
   "source": [
    "test = np.where(labels == label_number, 1, 0)"
   ]
  },
  {
   "cell_type": "code",
   "execution_count": 41,
   "metadata": {},
   "outputs": [
    {
     "data": {
      "text/plain": [
       "(902, 150, 425)"
      ]
     },
     "execution_count": 41,
     "metadata": {},
     "output_type": "execute_result"
    }
   ],
   "source": [
    "test.shape"
   ]
  },
  {
   "cell_type": "code",
   "execution_count": 42,
   "metadata": {},
   "outputs": [
    {
     "data": {
      "application/vnd.jupyter.widget-view+json": {
       "model_id": "3db6b19c58454c06b3df3d13bb5f4f78",
       "version_major": 2,
       "version_minor": 0
      },
      "text/plain": [
       "interactive(children=(IntSlider(value=0, description='frame_number', max=901, style=SliderStyle(description_wi…"
      ]
     },
     "metadata": {},
     "output_type": "display_data"
    }
   ],
   "source": [
    "# now let's examine the test data interactively \n",
    "def plot_vessel_segments(frame_number):\n",
    "    frame = test[frame_number,:,:]\n",
    "    plt.imshow(frame, cmap='gray')\n",
    "    plt.title('vessel segment data', loc='center')\n",
    "    plt.xlabel('pixels')\n",
    "    plt.ylabel('pixels')\n",
    "\n",
    "description_wider = {'description_width': 'initial'}\n",
    "interact(plot_vessel_segments, frame_number=widgets.IntSlider(min=0, \n",
    "    max=len(test)-1, step=1,value=0, style=description_wider));"
   ]
  },
  {
   "cell_type": "code",
   "execution_count": null,
   "metadata": {},
   "outputs": [],
   "source": [
    "# add segments"
   ]
  },
  {
   "cell_type": "code",
   "execution_count": 43,
   "metadata": {
    "scrolled": true
   },
   "outputs": [],
   "source": [
    "selected_lumen_labels = [x for x in lumen_labels if x != 0]"
   ]
  },
  {
   "cell_type": "code",
   "execution_count": 44,
   "metadata": {},
   "outputs": [],
   "source": [
    "selected_lumen_labels = [x for x in selected_lumen_labels if x != 1]"
   ]
  },
  {
   "cell_type": "code",
   "execution_count": 45,
   "metadata": {},
   "outputs": [
    {
     "data": {
      "text/plain": [
       "[971]"
      ]
     },
     "execution_count": 45,
     "metadata": {},
     "output_type": "execute_result"
    }
   ],
   "source": [
    "selected_lumen_labels"
   ]
  },
  {
   "cell_type": "code",
   "execution_count": null,
   "metadata": {},
   "outputs": [],
   "source": [
    "selected_lumen_labels = [17, 6272, 8365]"
   ]
  },
  {
   "cell_type": "code",
   "execution_count": null,
   "metadata": {},
   "outputs": [],
   "source": [
    "# # construct a list of individual 3D image blocks (vessel_segments) for each segment\n",
    "# vessel_segment = []\n",
    "# for label_number in selected_lumen_labels:\n",
    "#     vessel_segment.append([np.where(labels == label_number, 1, 0)])"
   ]
  },
  {
   "cell_type": "code",
   "execution_count": 27,
   "metadata": {},
   "outputs": [],
   "source": [
    "# arr = np.zeros((2, 3))\n",
    "vessel_segments = np.zeros((937, 250, 300))"
   ]
  },
  {
   "cell_type": "code",
   "execution_count": 28,
   "metadata": {},
   "outputs": [],
   "source": [
    "for label_number in selected_lumen_labels:\n",
    "    vessel_segments = vessel_segments + np.where(labels == label_number, 1, 0)"
   ]
  },
  {
   "cell_type": "code",
   "execution_count": 29,
   "metadata": {},
   "outputs": [
    {
     "data": {
      "text/plain": [
       "(937, 250, 300)"
      ]
     },
     "execution_count": 29,
     "metadata": {},
     "output_type": "execute_result"
    }
   ],
   "source": [
    "vessel_segments.shape"
   ]
  },
  {
   "cell_type": "code",
   "execution_count": null,
   "metadata": {},
   "outputs": [],
   "source": []
  },
  {
   "cell_type": "code",
   "execution_count": null,
   "metadata": {
    "scrolled": true
   },
   "outputs": [],
   "source": []
  },
  {
   "cell_type": "code",
   "execution_count": null,
   "metadata": {},
   "outputs": [],
   "source": [
    "\n",
    "# list of non-zero unique vessel segments\n",
    "# vessel_segment = \\\n",
    "#     vessel_segments[0][0] + \\\n",
    "#     vessel_segments[1][0] + \\\n",
    "#     vessel_segments[5][0] + \\\n",
    "#     vessel_segments[9][0] + \\\n",
    "#     vessel_segments[10][0] + \\\n",
    "#     vessel_segments[13][0] + \\\n",
    "#     vessel_segments[14][0] + \\\n",
    "#     vessel_segments[15][0] + \\\n",
    "#     vessel_segments[21][0]\n",
    "#     vessel_segments[1][0] + \\\n",
    "#     vessel_segments[2][0] + \\\n",
    "#     vessel_segments[4][0] + \\\n",
    "#     vessel_segments[5][0] + \\\n",
    "#     vessel_segments[6][0] + \\\n",
    "#     vessel_segments[7][0] + \\\n",
    "#     vessel_segments[8][0] + \\\n",
    "#     vessel_segments[11][0]"
   ]
  },
  {
   "cell_type": "code",
   "execution_count": null,
   "metadata": {},
   "outputs": [],
   "source": [
    "# lumen_label = 2\n",
    "# vessel_segment = np.where(labels == label_number, 1, 0)"
   ]
  },
  {
   "cell_type": "markdown",
   "metadata": {},
   "source": [
    "rename test to vessel_segments"
   ]
  },
  {
   "cell_type": "code",
   "execution_count": 46,
   "metadata": {},
   "outputs": [],
   "source": [
    "vessel_segments = test"
   ]
  },
  {
   "cell_type": "code",
   "execution_count": 47,
   "metadata": {},
   "outputs": [
    {
     "data": {
      "application/vnd.jupyter.widget-view+json": {
       "model_id": "595ff3e1dc434c0785df133d8a12b89e",
       "version_major": 2,
       "version_minor": 0
      },
      "text/plain": [
       "interactive(children=(IntSlider(value=0, description='frame_number', max=901, style=SliderStyle(description_wi…"
      ]
     },
     "metadata": {},
     "output_type": "display_data"
    }
   ],
   "source": [
    "# now let's examine the combined vessel segment interactively \n",
    "def plot_vessel_segments(frame_number):\n",
    "    frame = vessel_segments[frame_number,:,:]\n",
    "    plt.imshow(frame, cmap='gray')\n",
    "    plt.title('vessel segment data', loc='center')\n",
    "    plt.xlabel('pixels')\n",
    "    plt.ylabel('pixels')\n",
    "\n",
    "description_wider = {'description_width': 'initial'}\n",
    "interact(plot_vessel_segments, frame_number=widgets.IntSlider(min=0, \n",
    "    max=len(vessel_segments)-1, step=1,value=0, style=description_wider));"
   ]
  },
  {
   "cell_type": "code",
   "execution_count": 48,
   "metadata": {},
   "outputs": [
    {
     "name": "stdout",
     "output_type": "stream",
     "text": [
      "dimensions \n",
      " 902 \n",
      " 150 \n",
      " 425 \n",
      "\n"
     ]
    }
   ],
   "source": [
    "# this one without morphologic, binary, median filtering\n",
    "z_max, y_max, x_max = vessel_segments.shape\n",
    "print('dimensions \\n',\n",
    "      z_max, '\\n',\n",
    "      y_max, '\\n',\n",
    "      x_max, '\\n')"
   ]
  },
  {
   "cell_type": "code",
   "execution_count": 49,
   "metadata": {
    "scrolled": true
   },
   "outputs": [
    {
     "data": {
      "application/vnd.jupyter.widget-view+json": {
       "model_id": "11a5540b9b8b49dd81846b3a1f8c3d3a",
       "version_major": 2,
       "version_minor": 0
      },
      "text/plain": [
       "interactive(children=(IntSlider(value=0, description='top_view_slice', max=149, style=SliderStyle(description_…"
      ]
     },
     "metadata": {},
     "output_type": "display_data"
    }
   ],
   "source": [
    "# tomogram (sono-tomogram) t_plot_frame\n",
    "# examine slices (note: we choose / focus on U-D (up - down),\n",
    "# which is along the y-axis in this coordinate system\n",
    "# since this is the approximate orientation of the fistulogram\n",
    "# data = data\n",
    "# data = vessel_segment - this one without binary filtering\n",
    "\n",
    "def t_plot_frame(top_view_slice):\n",
    "    frame = vessel_segments[:,top_view_slice,:]\n",
    "#     frame = seg_close[:,top_view_slice,:]\n",
    "    frame = frame.T\n",
    "    plt.imshow(frame, cmap='gray', aspect=1)\n",
    "    plt.title('ultrasound tomography \"top view\" data', loc='center')\n",
    "    plt.xlabel('pixels')\n",
    "    plt.ylabel('pixels')\n",
    "\n",
    "description_wider = {'description_width': 'initial'}\n",
    "interact(t_plot_frame, top_view_slice=widgets.IntSlider(min=0, \n",
    "    max=y_max-1, step=1,value=0, style=description_wider));"
   ]
  },
  {
   "cell_type": "markdown",
   "metadata": {},
   "source": [
    "# now create sono-angiogram"
   ]
  },
  {
   "cell_type": "code",
   "execution_count": 50,
   "metadata": {},
   "outputs": [],
   "source": [
    "# Next: select the slice of 3D ultrasound data within the y-axis \n",
    "# that provides fistula data to render the \"sono-angiogram\"\n",
    "# Here we used data[:,13:60,:] \n",
    "# and sum up the image - like a 2D fistulogram - along this axis\n",
    "# incidentally, transpose the matrix to provide correct orientation\n",
    "result = np.sum(vessel_segments[:,:,:], axis = 1)\n",
    "resultT = result.T"
   ]
  },
  {
   "cell_type": "code",
   "execution_count": 51,
   "metadata": {
    "scrolled": true
   },
   "outputs": [
    {
     "data": {
      "text/plain": [
       "<matplotlib.image.AxesImage at 0x7fba07032c40>"
      ]
     },
     "execution_count": 51,
     "metadata": {},
     "output_type": "execute_result"
    },
    {
     "data": {
      "image/png": "[encoded data removed]",
      "text/plain": [
       "<Figure size 432x288 with 1 Axes>"
      ]
     },
     "metadata": {
      "needs_background": "light"
     },
     "output_type": "display_data"
    }
   ],
   "source": [
    "plt.imshow(resultT, aspect = 1.0, cmap='gray')\n",
    "# plt.colorbar();"
   ]
  },
  {
   "cell_type": "code",
   "execution_count": 53,
   "metadata": {},
   "outputs": [
    {
     "data": {
      "text/plain": [
       "'./3D_56_GE_20230928/'"
      ]
     },
     "execution_count": 53,
     "metadata": {},
     "output_type": "execute_result"
    }
   ],
   "source": [
    "# check file directory name\n",
    "file_directory"
   ]
  },
  {
   "cell_type": "code",
   "execution_count": 52,
   "metadata": {},
   "outputs": [],
   "source": [
    "# save image binary\n",
    "np.save('file_directory'+'subj_56_GE_1_B_mode_binary', vessel_segments)"
   ]
  },
  {
   "cell_type": "code",
   "execution_count": null,
   "metadata": {},
   "outputs": [],
   "source": []
  },
  {
   "cell_type": "markdown",
   "metadata": {},
   "source": [
    "# Apply morphologic and median filtering"
   ]
  },
  {
   "cell_type": "code",
   "execution_count": null,
   "metadata": {},
   "outputs": [],
   "source": [
    "# vessel_segment = vessel_segment_1 + vessel_segment_2 # using multiple segments"
   ]
  },
  {
   "cell_type": "markdown",
   "metadata": {},
   "source": [
    "rename back to vessel_segment"
   ]
  },
  {
   "cell_type": "code",
   "execution_count": null,
   "metadata": {},
   "outputs": [],
   "source": [
    "vessel_segment = vessel_segments"
   ]
  },
  {
   "cell_type": "code",
   "execution_count": null,
   "metadata": {},
   "outputs": [],
   "source": [
    "segment_close = ndi.binary_closing(vessel_segment, iterations=5)\n",
    "# segment_erode = ndi.binary_erosion(vessel_segment, iterations=5)\n",
    "seg_close_erode = ndi.binary_erosion(segment_close, iterations=5)\n",
    "# seg_erode_close = ndi.binary_closing(segment_erode, iterations=5)"
   ]
  },
  {
   "cell_type": "code",
   "execution_count": null,
   "metadata": {},
   "outputs": [],
   "source": [
    "# trying some morphologic filtering again\n",
    "# NOTE: binary closing of an input image by a structuring element \n",
    "# is the _erosion_ of the _dilation_ of the image by the structuring element\n",
    "# seg_close = ndi.binary_closing(vessel_segment, iterations=10)"
   ]
  },
  {
   "cell_type": "markdown",
   "metadata": {},
   "source": [
    "examine morphologic filtering"
   ]
  },
  {
   "cell_type": "code",
   "execution_count": null,
   "metadata": {},
   "outputs": [],
   "source": [
    "def t_plot_frame(top_view_slice):\n",
    "#     frame = vessel_segment[:,top_view_slice,:]\n",
    "#     frame = segment_close[:,top_view_slice,:]\n",
    "    frame = seg_close_erode[:,top_view_slice,:]\n",
    "    frame = frame.T\n",
    "    plt.imshow(frame, cmap='gray', aspect=1)\n",
    "    plt.title('ultrasound tomography \"top view\" data', loc='center')\n",
    "    plt.xlabel('pixels')\n",
    "    plt.ylabel('pixels')\n",
    "\n",
    "description_wider = {'description_width': 'initial'}\n",
    "interact(t_plot_frame, top_view_slice=widgets.IntSlider(min=0, \n",
    "    max=y_max-1, step=1,value=0, style=description_wider));"
   ]
  },
  {
   "cell_type": "code",
   "execution_count": null,
   "metadata": {},
   "outputs": [],
   "source": [
    "# median filtering (caution - takes a long time)\n",
    "# set up\n",
    "import time"
   ]
  },
  {
   "cell_type": "code",
   "execution_count": null,
   "metadata": {},
   "outputs": [],
   "source": [
    "# run median filter\n",
    "start_time = time.time()\n",
    "# vessel_segment_medFilt20 = ndi.median_filter(vessel_segment, size=20)\n",
    "vessel_seg_close_erode_medFilt10 = ndi.median_filter(seg_close_erode, size=10)\n",
    "end_time = time.time()\n",
    "filter_runtime = end_time - start_time\n",
    "filter_runtime\n"
   ]
  },
  {
   "cell_type": "code",
   "execution_count": null,
   "metadata": {},
   "outputs": [],
   "source": [
    "# test time\n",
    "t1 = time.time()\n",
    "time.sleep(0.9948312)\n",
    "t2 = time.time()\n",
    "diff_time = t2 - t1\n",
    "diff_time"
   ]
  },
  {
   "cell_type": "code",
   "execution_count": null,
   "metadata": {},
   "outputs": [],
   "source": [
    "# vesel_segment = seg_close_erode \n",
    "# vessel_segment = seg_erode_close\n",
    "# vessel_segment = segment_erode\n",
    "# vessel_segment = segment_close"
   ]
  },
  {
   "cell_type": "code",
   "execution_count": null,
   "metadata": {},
   "outputs": [],
   "source": [
    "vessel_segment = vessel_seg_close_erode_medFilt10"
   ]
  },
  {
   "cell_type": "code",
   "execution_count": null,
   "metadata": {},
   "outputs": [],
   "source": [
    "# tomogram (sono-tomogram) t_plot_frame\n",
    "# examine slices (note: we choose / focus on U-D (up - down),\n",
    "# which is along the y-axis in this coordinate system\n",
    "# since this is the approximate orientation of the fistulogram\n",
    "# data = data\n",
    "# data = vessel_segment - this one without binary filtering\n",
    "\n",
    "def t_plot_frame(top_view_slice):\n",
    "    frame = vessel_segment[:,top_view_slice,:]\n",
    "#     frame = seg_close[:,top_view_slice,:]\n",
    "    frame = frame.T\n",
    "    plt.imshow(frame, cmap='gray', aspect=0.5)\n",
    "    plt.title('ultrasound tomography \"top view\" data', loc='center')\n",
    "    plt.xlabel('pixels')\n",
    "    plt.ylabel('pixels')\n",
    "\n",
    "description_wider = {'description_width': 'initial'}\n",
    "interact(t_plot_frame, top_view_slice=widgets.IntSlider(min=0, \n",
    "    max=y_max-1, step=1,value=0, style=description_wider));"
   ]
  },
  {
   "cell_type": "code",
   "execution_count": null,
   "metadata": {},
   "outputs": [],
   "source": [
    "# Next: select the slice of 3D ultrasound data within the y-axis \n",
    "# that provides fistula data to render the \"sono-angiogram\"\n",
    "# Here we used data[:,13:60,:] \n",
    "# and sum up the image - like a 2D fistulogram - along this axis\n",
    "# incidentally, transpose the matrix to provide correct orientation\n",
    "result = np.sum(vessel_segment[:,:,:], axis = 1)\n",
    "resultT = result.T"
   ]
  },
  {
   "cell_type": "code",
   "execution_count": null,
   "metadata": {},
   "outputs": [],
   "source": [
    "plt.imshow(resultT, aspect = 0.8, cmap='gray')\n",
    "plt.colorbar();"
   ]
  },
  {
   "cell_type": "code",
   "execution_count": null,
   "metadata": {},
   "outputs": [],
   "source": [
    "# invert the result to make display similar to the angiogram\n",
    "# can use negative values but will use 255 to make non-negative\n",
    "result_inv = 255 - resultT"
   ]
  },
  {
   "cell_type": "code",
   "execution_count": null,
   "metadata": {},
   "outputs": [],
   "source": [
    "plt.imshow(result_inv, aspect = 0.8, cmap='gray')\n",
    "plt.colorbar();"
   ]
  },
  {
   "cell_type": "code",
   "execution_count": null,
   "metadata": {},
   "outputs": [],
   "source": [
    "# okay adding median filtering\n",
    "result_filt = ndi.median_filter(result_inv, size=20)"
   ]
  },
  {
   "cell_type": "code",
   "execution_count": null,
   "metadata": {},
   "outputs": [],
   "source": [
    "plt.imshow(result_filt, aspect = 0.8, cmap='gray')\n",
    "plt.colorbar();"
   ]
  },
  {
   "cell_type": "code",
   "execution_count": null,
   "metadata": {},
   "outputs": [],
   "source": [
    "# need to flip and pad the data for 3D viewing"
   ]
  },
  {
   "cell_type": "code",
   "execution_count": null,
   "metadata": {},
   "outputs": [],
   "source": [
    "# flip data: obtain proper orientation for display\n",
    "# TEST: using sub-slice of vessel segment vessel_segment[:,90:140,:]\n",
    "data_flip_y = np.flip(vessel_segment, axis=1)\n",
    "data_flip_x = np.flip(data_flip_y, axis=2)\n",
    "data_flip = data_flip_x"
   ]
  },
  {
   "cell_type": "code",
   "execution_count": null,
   "metadata": {},
   "outputs": [],
   "source": [
    "# NOTE: can skip zero pad for power Doppler data, cropping less restrictive w/ power Doppler\n",
    "# need to pad the data depending on cropping and image scale\n",
    "zero_pad_data = np.pad(data_flip, (200,200), \\\n",
    "                       mode='constant', constant_values = (0,0))"
   ]
  },
  {
   "cell_type": "code",
   "execution_count": null,
   "metadata": {},
   "outputs": [],
   "source": [
    "c_frames"
   ]
  },
  {
   "cell_type": "code",
   "execution_count": null,
   "metadata": {},
   "outputs": [],
   "source": [
    "#  now trim the z-axis using number of cropped frames\n",
    "# trim_zero_pad = zero_pad_data[200:425,:,:] #for 2_017_img08\n",
    "# trim_zero_pad = zero_pad_data[200:330,:,:] #for 2_016_img08\n",
    "# trim_zero_pad = zero_pad_data[200:425,:,:] #for 2_017\n",
    "# trim_zero_pad = zero_pad_data[200:600,:,:] #for 2_018\n",
    "# trim_zero_pad = zero_pad_data[200:606,:,:] #for 2_020\n",
    "trim_zero_pad = zero_pad_data[200:770,:,:] #for 2_017_d55_img03_GRAYSCALE"
   ]
  },
  {
   "cell_type": "code",
   "execution_count": null,
   "metadata": {},
   "outputs": [],
   "source": [
    "vessel_segment.shape"
   ]
  },
  {
   "cell_type": "code",
   "execution_count": null,
   "metadata": {},
   "outputs": [],
   "source": [
    "# WARNING - median filtering takes a _long_ time in 3D\n",
    "# V_med_filt = ndi.median_filter(vessel_segment, size=10)"
   ]
  },
  {
   "cell_type": "code",
   "execution_count": null,
   "metadata": {},
   "outputs": [],
   "source": []
  },
  {
   "cell_type": "code",
   "execution_count": null,
   "metadata": {},
   "outputs": [],
   "source": [
    "V = zero_pad_data\n",
    "# V = trim_zero_pad # our 3d array\n",
    "# V = V_med_filt\n",
    "# V = vessel_segment\n",
    "# V = data_flip\n",
    "# V = seg_close\n",
    "ipv.figure()\n",
    "ipv.volshow(V, level=[0.25, 0.75], opacity=3.0, level_width=0.2, data_min=0, data_max=1)\n",
    "ipv.view(-80,20)\n",
    "ipv.show()"
   ]
  },
  {
   "cell_type": "markdown",
   "metadata": {},
   "source": [
    "# FINI for version 20210331 (March 31, 2021)"
   ]
  },
  {
   "cell_type": "markdown",
   "metadata": {},
   "source": [
    "# caution: code below as example kept for reference\n",
    "# need to rename plotting widgets to avoid losing above data\n",
    "# morpholigic filtering code also added below as example only"
   ]
  },
  {
   "cell_type": "code",
   "execution_count": null,
   "metadata": {},
   "outputs": [],
   "source": [
    "# load raw data (files deleted with identifiers)\n",
    "# only .npy files present\n",
    "# fistula_path = './2_016_fistulogram_raw/SE000019/'\n",
    "# os.listdir(fistula_path)"
   ]
  },
  {
   "cell_type": "code",
   "execution_count": null,
   "metadata": {},
   "outputs": [],
   "source": [
    "# import skvideo.io"
   ]
  },
  {
   "cell_type": "code",
   "execution_count": null,
   "metadata": {},
   "outputs": [],
   "source": [
    "# video_frames = skvideo.io.vread('./accuracy_test_dicom_data/2_007_fistulogram.wmv')"
   ]
  },
  {
   "cell_type": "code",
   "execution_count": null,
   "metadata": {},
   "outputs": [],
   "source": [
    "# fistulogram_data = video_frames.astype(np.uint8)"
   ]
  },
  {
   "cell_type": "code",
   "execution_count": null,
   "metadata": {},
   "outputs": [],
   "source": [
    "# type(fistulogram_data)"
   ]
  },
  {
   "cell_type": "code",
   "execution_count": null,
   "metadata": {},
   "outputs": [],
   "source": [
    "# fistulogram_data.shape"
   ]
  },
  {
   "cell_type": "code",
   "execution_count": null,
   "metadata": {},
   "outputs": [],
   "source": [
    "# np.save('2_007_fistulogram', fistulogram_data[:,:,:,0])"
   ]
  },
  {
   "cell_type": "code",
   "execution_count": null,
   "metadata": {},
   "outputs": [],
   "source": [
    "# (files deleted with identifiers)\n",
    "# ds = pydicom.dcmread(fistula_path + os.listdir(fistula_path)[1])\n",
    "# or\n",
    "# ds = pydicom.dcmread(file_directory + file_name)\n",
    "# and\n",
    "# pixel_data = ds.pixel_array # (or whatever name you choose)"
   ]
  },
  {
   "cell_type": "code",
   "execution_count": null,
   "metadata": {},
   "outputs": [],
   "source": [
    "# fistulogram_2_016 = ds.pixel_array"
   ]
  },
  {
   "cell_type": "code",
   "execution_count": null,
   "metadata": {},
   "outputs": [],
   "source": [
    "# np.save('2_016_fistulogram', fistulogram_2_016)"
   ]
  },
  {
   "cell_type": "markdown",
   "metadata": {},
   "source": [
    "# begin using .npy fistulogram files"
   ]
  },
  {
   "cell_type": "code",
   "execution_count": null,
   "metadata": {},
   "outputs": [],
   "source": [
    "# lines below used to strip identifiers and save as .npy \n",
    "\n",
    "# dir_path = './fistulogram_3D/'\n",
    "# file_name = '2_019_fistulogram.dcm'\n",
    "# ds = pydicom.dcmread(dir_path + file_name)\n",
    "# pixels = ds.pixel_array\n",
    "# pixels.shape\n",
    "# np.save('2_019_fistulogram', pixels)"
   ]
  },
  {
   "cell_type": "code",
   "execution_count": null,
   "metadata": {},
   "outputs": [],
   "source": [
    "# lines below used to examine fistulograms\n",
    "# fistulogram viewer:\n",
    "\n",
    "# def plot_frame(frame_number):\n",
    "#     frame = pixels[frame_number,:,:]\n",
    "#     plt.imshow(frame, cmap='gray')\n",
    "#     plt.title('fistulogram data: view frames', loc='center')\n",
    "#     plt.xlabel('pixels')\n",
    "#     plt.ylabel('pixels')\n",
    "\n",
    "# description_wider = {'description_width': 'initial'}\n",
    "# interact(plot_frame, frame_number=widgets.IntSlider(min=0, \n",
    "#     max=len(pixels)-1, step=1,value=0, style=description_wider));"
   ]
  },
  {
   "cell_type": "code",
   "execution_count": 2,
   "metadata": {},
   "outputs": [
    {
     "data": {
      "text/plain": [
       "['.DS_Store',\n",
       " '1056_fistulogram.npy',\n",
       " '1056_fistulogram_anonymized_092823.wmv',\n",
       " '1_B_Mode_trimmed.npy',\n",
       " '2_Power_Doppler_trimmed.npy',\n",
       " '3_B_Flow_trimmed.npy',\n",
       " 'Notes_subject_56_GE.docx',\n",
       " 'original GE data',\n",
       " 'subj_56_GE_1_B_mode_binary.npy',\n",
       " 'subj_56_GE_2_Power_Doppler_binary.npy',\n",
       " 'subj_56_GE_3_B_FLOW_binary_thresh75_channel0.npy',\n",
       " 'subj_56_GE_3_B_FLOW_binary_thresh75_channel0_erode5_close10.npy',\n",
       " '~$tes_subject_56_GE.docx']"
      ]
     },
     "execution_count": 2,
     "metadata": {},
     "output_type": "execute_result"
    }
   ],
   "source": [
    "# files = os.listdir('./accuracy_test_dicom_data/')\n",
    "files = os.listdir('./3D_56_GE_20230928/')\n",
    "files.sort()\n",
    "files"
   ]
  },
  {
   "cell_type": "code",
   "execution_count": 5,
   "metadata": {},
   "outputs": [],
   "source": [
    "dir_path = './3D_56_GE_20230928/'\n",
    "fistulogram = '1056_fistulogram.npy'"
   ]
  },
  {
   "cell_type": "code",
   "execution_count": 6,
   "metadata": {},
   "outputs": [],
   "source": [
    "# fistulogram cine loop in npy format from same subject\n",
    "fistulogram_data = np.load(dir_path + \\\n",
    "    fistulogram)"
   ]
  },
  {
   "cell_type": "code",
   "execution_count": 7,
   "metadata": {},
   "outputs": [
    {
     "data": {
      "text/plain": [
       "numpy.ndarray"
      ]
     },
     "execution_count": 7,
     "metadata": {},
     "output_type": "execute_result"
    }
   ],
   "source": [
    "type(fistulogram_data[1,1,1])"
   ]
  },
  {
   "cell_type": "code",
   "execution_count": 11,
   "metadata": {
    "scrolled": true
   },
   "outputs": [
    {
     "data": {
      "application/vnd.jupyter.widget-view+json": {
       "model_id": "aa72b8de01b544879e620b2625cfe0e5",
       "version_major": 2,
       "version_minor": 0
      },
      "text/plain": [
       "interactive(children=(IntSlider(value=0, description='frame_number', max=41, style=SliderStyle(description_wid…"
      ]
     },
     "metadata": {},
     "output_type": "display_data"
    }
   ],
   "source": [
    "# examine the frames\n",
    "# fistulogram_02_007, only view of anastomosis\n",
    "# fistulogram_02_016, only view of anastomosis\n",
    "# fistulogram_02_017_pre, x1=4.19mm, x2=4.52mm, x3=3.6mm\n",
    "# fistulogram_02_017_post, after PTA of anast + outflow\n",
    "\n",
    "# fistulogram_data = fistulogram_2_016 #define input\n",
    "def plot_frame(frame_number):\n",
    "#     frame = fistulogram_data[frame_number,400:650,200:900]\n",
    "    frame = fistulogram_data[frame_number,270:750,:]\n",
    "    plt.imshow(frame, cmap='gray')\n",
    "    plt.title('fistulogram data: view frames', loc='center')\n",
    "    plt.xlabel('pixels')\n",
    "    plt.ylabel('pixels')\n",
    "\n",
    "description_wider = {'description_width': 'initial'}\n",
    "interact(plot_frame, frame_number=widgets.IntSlider(min=0, \n",
    "    max=len(fistulogram_data)-1, step=1,value=0, style=description_wider));"
   ]
  },
  {
   "cell_type": "code",
   "execution_count": 17,
   "metadata": {},
   "outputs": [
    {
     "data": {
      "application/vnd.jupyter.widget-view+json": {
       "model_id": "9618f6b97fd14431a7c7c61c520a16cb",
       "version_major": 2,
       "version_minor": 0
      },
      "text/plain": [
       "interactive(children=(IntSlider(value=0, description='frame_number', max=41, style=SliderStyle(description_wid…"
      ]
     },
     "metadata": {},
     "output_type": "display_data"
    }
   ],
   "source": [
    "# examine the frames\n",
    "# use more cropping\n",
    "\n",
    "# fistulogram_data = fistulogram_2_016 #define input\n",
    "def plot_frame(frame_number):\n",
    "#     frame = fistulogram_data[frame_number,400:650,200:900]\n",
    "    frame = fistulogram_data[frame_number,470:700,400:820]\n",
    "    plt.imshow(frame, cmap='gray')\n",
    "    plt.title('fistulogram data: view frames', loc='center')\n",
    "    plt.xlabel('pixels')\n",
    "    plt.ylabel('pixels')\n",
    "\n",
    "description_wider = {'description_width': 'initial'}\n",
    "interact(plot_frame, frame_number=widgets.IntSlider(min=0, \n",
    "    max=len(fistulogram_data)-1, step=1,value=0, style=description_wider));"
   ]
  },
  {
   "cell_type": "code",
   "execution_count": 19,
   "metadata": {},
   "outputs": [],
   "source": [
    "fistulogram_trimmed = fistulogram_data[:,470:700,400:820]"
   ]
  },
  {
   "cell_type": "code",
   "execution_count": 20,
   "metadata": {},
   "outputs": [],
   "source": [
    "fistulogram_best_frame = fistulogram_data[18,470:700,400:820]"
   ]
  },
  {
   "cell_type": "code",
   "execution_count": 21,
   "metadata": {},
   "outputs": [],
   "source": [
    "np.save(dir_path + '1056_fistulogram_trimmed', fistulogram_trimmed)"
   ]
  },
  {
   "cell_type": "code",
   "execution_count": 22,
   "metadata": {},
   "outputs": [],
   "source": [
    "np.save(dir_path + '1056_fistulogram_best_frame', fistulogram_best_frame)"
   ]
  },
  {
   "cell_type": "code",
   "execution_count": 24,
   "metadata": {},
   "outputs": [],
   "source": [
    "test = np.load(dir_path + '1056_fistulogram_best_frame.npy')"
   ]
  },
  {
   "cell_type": "code",
   "execution_count": 25,
   "metadata": {},
   "outputs": [
    {
     "data": {
      "text/plain": [
       "<matplotlib.image.AxesImage at 0x7fb3a2772430>"
      ]
     },
     "execution_count": 25,
     "metadata": {},
     "output_type": "execute_result"
    },
    {
     "data": {
      "image/png": "[encoded data removed]",
      "text/plain": [
       "<Figure size 432x288 with 1 Axes>"
      ]
     },
     "metadata": {
      "needs_background": "light"
     },
     "output_type": "display_data"
    }
   ],
   "source": [
    "plt.imshow(test)"
   ]
  },
  {
   "cell_type": "code",
   "execution_count": null,
   "metadata": {},
   "outputs": [],
   "source": [
    "# show fistulogram (sliced)\n",
    "# fistulogram 2_017_pre: use (9:18,400:650,200:900)\n",
    "# f_2_017 = np.sum(fistulogram_data \\\n",
    "#     [9:13,400:650,200:900], axis = 0)\n",
    "\n",
    "# show fistulogram (sliced)\n",
    "# fistulogram 2_016_pre: use (20:36,400:650,200:900)\n",
    "# f_2_016 = np.sum(fistulogram_data \\\n",
    "#     [20:36,400:650,200:900], axis = 0)\n",
    "\n",
    "# show fistulogram (sliced)\n",
    "# fistulogram 2_016_pre: use (20:36,400:650,200:900)\n",
    "f_2_007 = np.sum(fistulogram_data \\\n",
    "    [16:23,400:650,200:900], axis = 0)"
   ]
  },
  {
   "cell_type": "code",
   "execution_count": null,
   "metadata": {},
   "outputs": [],
   "source": [
    "# f_2_017.shape\n",
    "# f_2_016.shape\n",
    "f_2_007.shape"
   ]
  },
  {
   "cell_type": "code",
   "execution_count": null,
   "metadata": {},
   "outputs": [],
   "source": [
    "type(f_2_007[0,0])"
   ]
  },
  {
   "cell_type": "code",
   "execution_count": null,
   "metadata": {},
   "outputs": [],
   "source": [
    "# fistulogram 2_017_pre: use (9:18,400:650,200:900)\n",
    "# f_2_017 = fistulogram_data[9:18,400:650,200:900]\n",
    "# fistulogram 2_016: use (20:36,400:650,200:900)\n",
    "# f_2_016 = fistulogram_data[20:36,400:650,200:900]\n",
    "# f_2_007 = fistulogram_data[16:23,400:650,200:900]\n",
    "plt.imshow(f_2_007, cmap='gray')\n",
    "plt.title('fistulogram data: view frames', loc='center')\n",
    "plt.xlabel('pixels')\n",
    "plt.ylabel('pixels')"
   ]
  },
  {
   "cell_type": "markdown",
   "metadata": {},
   "source": [
    "# Fini, stopping at fistulogram viewer"
   ]
  },
  {
   "cell_type": "code",
   "execution_count": null,
   "metadata": {},
   "outputs": [],
   "source": [
    "# comparison of fistulagram\n",
    "# with thresholded, morphologic binary filtered usn data\n",
    "# fig, axes = plt.subplots(1,2)\n",
    "# axes[0].imshow(fistulogram_data[10,20:120,40:], cmap='gray')\n",
    "# axes[0].set_title('fistulogram')\n",
    "# axes[0].set_xlabel('pixels')\n",
    "# axes[0].set_ylabel('pixels')\n",
    "# axes[1].imshow(result_inv[:,:], cmap='gray', aspect=0.5,)\n",
    "# axes[1].set_xlabel('pixels')\n",
    "# axes[1].set_title('sonoangiogram');"
   ]
  },
  {
   "cell_type": "code",
   "execution_count": null,
   "metadata": {},
   "outputs": [],
   "source": [
    "# the last step is to apply a median filter \n",
    "# to produce the 2D usn image or \"sono-angiogram\"\n",
    "# sono_angiogram = ndi.median_filter(result_inv[:,:], size = 30)"
   ]
  },
  {
   "cell_type": "code",
   "execution_count": null,
   "metadata": {},
   "outputs": [],
   "source": [
    "# fig, axes = plt.subplots(1,2,figsize=(10,10))\n",
    "# axes[0].imshow(fistulogram_data[10,20:120,40:], cmap='gray')\n",
    "# axes[0].set_title('fistulogram')\n",
    "# axes[0].set_xlabel('pixels')\n",
    "# axes[0].set_ylabel('pixels')\n",
    "# axes[1].imshow(sono_angiogram, cmap='gray', aspect=0.5)\n",
    "# axes[1].set_xlabel('pixels')\n",
    "# axes[1].set_title('sonoangiogram');\n"
   ]
  },
  {
   "cell_type": "markdown",
   "metadata": {},
   "source": [
    "# Fini"
   ]
  },
  {
   "cell_type": "markdown",
   "metadata": {},
   "source": [
    "# added some old code for morphologic filtering reference, not used in this notebook\n",
    "\n",
    "Masks can be \"tuned\" through the addition and subtraction of pixels. SciPy ndi has methods which include:<br>\n",
    "binary_dilation: Add pixels along edges <br>\n",
    "binary_erosion: Remove pixels along edges <br>\n",
    "binary_opening: Erode then dilate, \"opening\" areas near edges <br>\n",
    "binary_closing: Dilate then erode, \"filling in\" holes <br>"
   ]
  },
  {
   "cell_type": "code",
   "execution_count": null,
   "metadata": {},
   "outputs": [],
   "source": [
    "# # use vessel_segment as data\n",
    "# data = vessel_segment\n",
    "# # make different masks from the vessel segment (note: iterations was set to 5 previoulsy)\n",
    "# # steps to try below\n",
    "# mask_dilate = ndi.binary_dilation(data, iterations=5)\n",
    "# mask_erode = ndi.binary_erosion(data, iterations=5)\n",
    "# mask_open = ndi.binary_opening(data, iterations=5)\n",
    "# mask_close = ndi.binary_closing(data, iterations=5)"
   ]
  },
  {
   "cell_type": "code",
   "execution_count": null,
   "metadata": {},
   "outputs": [],
   "source": [
    "# # select the frame to examine\n",
    "# # (make greater than iterations)\n",
    "# frame_number = 20\n",
    "# # Plot masked images\n",
    "# fig, axes = plt.subplots(5,1)\n",
    "# axes[0].imshow(data[frame_number,:,:])\n",
    "# axes[1].imshow(mask_dilate[frame_number,:,:])\n",
    "# axes[2].imshow(mask_erode[frame_number,:,:])\n",
    "# axes[3].imshow(mask_open[frame_number,:,:])\n",
    "# axes[4].imshow(mask_close[frame_number,:,:])"
   ]
  },
  {
   "cell_type": "code",
   "execution_count": null,
   "metadata": {},
   "outputs": [],
   "source": [
    "# # lets examine mask_erode\n",
    "# data = mask_erode\n",
    "# def plot_frame(frame_number):\n",
    "#     frame = data[frame_number,:,:]\n",
    "#     plt.imshow(frame, cmap='gray')\n",
    "\n",
    "# description_wider = {'description_width': 'initial'}\n",
    "# interact(plot_frame, frame_number=widgets.IntSlider(min=0, \n",
    "#     max=len(data)-1, step=1,value=0, style=description_wider));"
   ]
  },
  {
   "cell_type": "code",
   "execution_count": null,
   "metadata": {},
   "outputs": [],
   "source": [
    "# # lets re-segment\n",
    "# # look at mask_close\n",
    "# # the next major step is segmentation\n",
    "# labels, nlabels = ndi.label(mask_open)\n",
    "# labels.shape, nlabels"
   ]
  },
  {
   "cell_type": "code",
   "execution_count": null,
   "metadata": {},
   "outputs": [],
   "source": [
    "# # AGAIN\n",
    "# # find the label of the vessel lumen\n",
    "# # on frame 71 looks like 30, 300 should give the label\n",
    "# lumen_label = labels[71, 30, 300]\n",
    "# lumen_label"
   ]
  },
  {
   "cell_type": "code",
   "execution_count": null,
   "metadata": {},
   "outputs": [],
   "source": [
    "# vessel_segment_2 = np.where(labels == lumen_label, 1, 0)"
   ]
  },
  {
   "cell_type": "markdown",
   "metadata": {},
   "source": [
    "# there is much more code, the above was simply added as an example"
   ]
  },
  {
   "cell_type": "code",
   "execution_count": null,
   "metadata": {},
   "outputs": [],
   "source": []
  }
 ],
 "metadata": {
  "kernelspec": {
   "display_name": "Python 3 (ipykernel)",
   "language": "python",
   "name": "python3"
  },
  "language_info": {
   "codemirror_mode": {
    "name": "ipython",
    "version": 3
   },
   "file_extension": ".py",
   "mimetype": "text/x-python",
   "name": "python",
   "nbconvert_exporter": "python",
   "pygments_lexer": "ipython3",
   "version": "3.9.5"
  }
 },
 "nbformat": 4,
 "nbformat_minor": 4
}
